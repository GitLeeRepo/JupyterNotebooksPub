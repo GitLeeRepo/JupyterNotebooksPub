{
 "cells": [
  {
   "cell_type": "markdown",
   "metadata": {},
   "source": [
    "# First Notebook"
   ]
  },
  {
   "cell_type": "markdown",
   "metadata": {},
   "source": [
    "# Lambda Function"
   ]
  },
  {
   "cell_type": "code",
   "execution_count": 2,
   "metadata": {},
   "outputs": [
    {
     "name": "stdout",
     "output_type": "stream",
     "text": [
      "16.0\n"
     ]
    }
   ],
   "source": [
    "import numpy as np\n",
    "from scipy import integrate\n",
    "\n",
    "f = lambda x: 2*x  # x**2\n",
    "val = 4 # value to integrate\n",
    "ans, err = integrate.quad(f,0.,val)\n",
    "print(ans)\n"
   ]
  },
  {
   "cell_type": "markdown",
   "metadata": {},
   "source": [
    "# Plot Example"
   ]
  },
  {
   "cell_type": "code",
   "execution_count": 4,
   "metadata": {},
   "outputs": [
    {
     "data": {
      "image/png": "[encoded data removed]",
      "text/plain": [
       "<Figure size 432x288 with 1 Axes>"
      ]
     },
     "metadata": {},
     "output_type": "display_data"
    }
   ],
   "source": [
    "import matplotlib.pyplot as plt\n",
    "xpoints = [1,2,3,4]\n",
    "ypoints =[1,4,9,16]\n",
    "plt.plot(xpoints, ypoints, 'b-',xpoints, ypoints, 'ro')\n",
    "plt.title(\"Plot lines and points\")\n",
    "plt.axis([0, 6, 0, 20])\n",
    "plt.show()"
   ]
  },
  {
   "cell_type": "markdown",
   "metadata": {},
   "source": [
    "# Matrix Demo"
   ]
  },
  {
   "cell_type": "code",
   "execution_count": 40,
   "metadata": {},
   "outputs": [
    {
     "name": "stdout",
     "output_type": "stream",
     "text": [
      "int32\n",
      "int32\n",
      "\n",
      "Matrix multiply with identity using matrix class: \n",
      "[[1 2]\n",
      " [3 4]]\n",
      " * \n",
      "[[1 0]\n",
      " [0 1]]\n",
      " = \n",
      "[[1 2]\n",
      " [3 4]]\n",
      "\n",
      "Alternative using np.matmul()\n",
      "[[1 2]\n",
      " [3 4]]\n",
      "\n",
      "Matrix multiply 3xIndent: \n",
      "[[1 2 3]\n",
      " [4 5 6]\n",
      " [7 8 9]]\n",
      " * \n",
      "[[1 0 0]\n",
      " [0 1 0]\n",
      " [0 0 1]]\n",
      " = \n",
      "[[1 2 3]\n",
      " [4 5 6]\n",
      " [7 8 9]]\n",
      "\n",
      "Matrix multiply 3x2: \n",
      "[[-1  3]\n",
      " [ 4 -2]\n",
      " [ 5  0]]\n",
      " * \n",
      "[[-3  2]\n",
      " [-4  1]]\n",
      " = \n",
      "[[ -9   1]\n",
      " [ -4   6]\n",
      " [-15  10]]\n",
      "\n",
      "Determinants for 2x2 matrices: \n",
      "[[1 2]\n",
      " [3 4]]\n",
      "-2.0 \n",
      "\n",
      "[[-3  2]\n",
      " [-4  1]]\n",
      "5.0\n",
      "\n",
      "Using np.Solve() 2x2: \n",
      "[[-1.  -1.2]\n",
      " [-1.  -0.8]]\n",
      "\n",
      "Using sympy.rref() 2x3: \n",
      "(Matrix([\n",
      "[1, 0,  7],\n",
      "[0, 1, -9]]), (0, 1))\n",
      "\n",
      "Using sympy.rref() 4x6: \n",
      "(Matrix([\n",
      "[1, 0,  1, 0,  1,  500],\n",
      "[0, 1, -1, 0, -1, -200],\n",
      "[0, 0,  0, 1,  1,  350],\n",
      "[0, 0,  0, 0,  0,    0]]), (0, 1, 3))\n",
      "\n",
      "Original matrix:\n",
      "[[1 2]\n",
      " [3 4]]\n",
      "\n",
      "Inverse:\n",
      "[[-2.   1. ]\n",
      " [ 1.5 -0.5]]\n",
      "\n",
      "Determinant:\n",
      "-2.0\n"
     ]
    }
   ],
   "source": [
    "# import numpy as np\n",
    "import sympy\n",
    "\n",
    "#########################\n",
    "# Demo matrix operations\n",
    "#########################\n",
    "\n",
    "####\n",
    "# 2x2 matrix identity\n",
    "####\n",
    "\n",
    "a = np.array([[1,2],[3,4]])\n",
    "print(a.dtype)\n",
    "\n",
    "m_a = np.matrix(a)\n",
    "print(m_a.dtype)\n",
    "\n",
    "ident = np.array([[1,0],[0,1]])\n",
    "m_ident = np.matrix(ident)\n",
    "\n",
    "print(\"\\nMatrix multiply with identity using matrix class: \")\n",
    "# using the matrix class\n",
    "print(m_a)\n",
    "print(\" * \")\n",
    "print(m_ident)\n",
    "print(\" = \")\n",
    "print(m_a * m_ident)\n",
    "# Alternative working on array instead\n",
    "print(\"\\nAlternative using np.matmul()\")\n",
    "print(np.matmul(a,ident))\n",
    "\n",
    "####\n",
    "# 3x3 matrix identity\n",
    "####\n",
    "\n",
    "m_ident3=np.matrix([[1,0,0],[0,1,0],[0,0,1]])\n",
    "m_a3=np.matrix([[1,2,3],[4,5,6],[7,8,9]])\n",
    "\n",
    "print(\"\\nMatrix multiply 3xIndent: \")\n",
    "print(m_a3)\n",
    "print(\" * \")\n",
    "print(m_ident3)\n",
    "print(\" = \")\n",
    "print(m_a3 * m_ident3)\n",
    "\n",
    "####\n",
    "# Matrix multiply 3x2 * 2x2\n",
    "####\n",
    "\n",
    "m_mul3x2=np.matrix([[-1,3],[4,-2],[5,0]])\n",
    "m_mul2x2=np.matrix([[-3,2],[-4,1]])\n",
    "\n",
    "print(\"\\nMatrix multiply 3x2: \")\n",
    "print(m_mul3x2)\n",
    "print(\" * \")\n",
    "print(m_mul2x2)\n",
    "print(\" = \")\n",
    "print(m_mul3x2 * m_mul2x2)\n",
    "\n",
    "\n",
    "####\n",
    "# Determinant\n",
    "####\n",
    "\n",
    "print(\"\\nDeterminants for 2x2 matrices: \")\n",
    "print(a)\n",
    "print(np.round(np.linalg.det(a),4),\"\\n\")\n",
    "\n",
    "print(m_mul2x2)\n",
    "print(np.round(np.linalg.det(m_mul2x2),4))\n",
    "\n",
    "####\n",
    "# Solve\n",
    "####\n",
    "\n",
    "## 2x2 square so you can use np.linalg.solve\n",
    "print(\"\\nUsing np.Solve() 2x2: \")\n",
    "print(np.linalg.solve(m_mul2x2, m_a))\n",
    "\n",
    "## 2x3 augmented matrix (np.linalg.solve won't work), so you sympy.Matrix().rref() since numpy doesn't have row reduction\n",
    "## Example from Mathematica Precalculus lecture 25. Systems of Linear Equations and Matrices\n",
    "print(\"\\nUsing sympy.rref() 2x3: \")\n",
    "m_mul2x3b=np.matrix([[8,6,2],[5,4,-1]])\n",
    "print(sympy.Matrix(m_mul2x3b).rref())\n",
    "\n",
    "\n",
    "## 4x6 augumented matrix using sympy.Matrix().rref() (Reduced Row Echelon Format, aka Gauss-Jordan)\n",
    "## Example from Mathematica Precalculus lecture 28 - Applications of Linear Systems and Matrices\n",
    "m_mul4x6=np.matrix([[1,1,0,0,0,300],[1,0,1,-1,0,150],[0,1,-1,0,-1,-200],[0,0,0,1,1,350]])\n",
    "print(\"\\nUsing sympy.rref() 4x6: \")\n",
    "print(sympy.Matrix(m_mul4x6).rref())\n",
    "\n",
    "####\n",
    "# Inverse Matrices\n",
    "####\n",
    "\n",
    "print(\"\\nOriginal matrix:\")\n",
    "print(m_a)\n",
    "\n",
    "print(\"\\nInverse:\")\n",
    "print(np.linalg.inv(m_a))\n",
    "\n",
    "print(\"\\nDeterminant:\")\n",
    "print(np.round(np.linalg.det(m_a),3))    # Determinant"
   ]
  },
  {
   "cell_type": "markdown",
   "metadata": {},
   "source": [
    "# Markdown Demo"
   ]
  },
  {
   "cell_type": "markdown",
   "metadata": {},
   "source": [
    "So far it looks to be just like **GitHub markdown**\n",
    "\n",
    "### Markdown table\n",
    "\n",
    " Col 1 | Col 2 |\n",
    "-------|-------|\n",
    "1      | 2     |\n",
    "3      | 4     |\n",
    "\n",
    "\n",
    "### Lists\n",
    "\n",
    "* Item 1\n",
    "* Item 2\n",
    "* [GitHub SciPy Repo](https://github.com/GitLeeRepo/SciPy)\n"
   ]
  },
  {
   "cell_type": "markdown",
   "metadata": {},
   "source": [
    "# Magic Commands"
   ]
  },
  {
   "cell_type": "markdown",
   "metadata": {},
   "source": [
    "**Magic commands** let you enter commands in a **code (Python) cell**.  For a **single line command** use one percent sign, and to make the entire cell into a **magic cell** use two percent signs."
   ]
  },
  {
   "cell_type": "code",
   "execution_count": 6,
   "metadata": {
    "scrolled": true
   },
   "outputs": [
    {
     "data": {
      "application/json": {
       "cell": {
        "!": "OSMagics",
        "HTML": "Other",
        "SVG": "Other",
        "bash": "Other",
        "capture": "ExecutionMagics",
        "cmd": "Other",
        "debug": "ExecutionMagics",
        "file": "Other",
        "html": "DisplayMagics",
        "javascript": "DisplayMagics",
        "js": "DisplayMagics",
        "latex": "DisplayMagics",
        "markdown": "DisplayMagics",
        "perl": "Other",
        "prun": "ExecutionMagics",
        "pypy": "Other",
        "python": "Other",
        "python2": "Other",
        "python3": "Other",
        "ruby": "Other",
        "script": "ScriptMagics",
        "sh": "Other",
        "svg": "DisplayMagics",
        "sx": "OSMagics",
        "system": "OSMagics",
        "time": "ExecutionMagics",
        "timeit": "ExecutionMagics",
        "writefile": "OSMagics"
       },
       "line": {
        "alias": "OSMagics",
        "alias_magic": "BasicMagics",
        "autocall": "AutoMagics",
        "automagic": "AutoMagics",
        "autosave": "KernelMagics",
        "bookmark": "OSMagics",
        "cd": "OSMagics",
        "clear": "KernelMagics",
        "cls": "KernelMagics",
        "colors": "BasicMagics",
        "config": "ConfigMagics",
        "connect_info": "KernelMagics",
        "copy": "Other",
        "ddir": "Other",
        "debug": "ExecutionMagics",
        "dhist": "OSMagics",
        "dirs": "OSMagics",
        "doctest_mode": "BasicMagics",
        "echo": "Other",
        "ed": "Other",
        "edit": "KernelMagics",
        "env": "OSMagics",
        "gui": "BasicMagics",
        "hist": "Other",
        "history": "HistoryMagics",
        "killbgscripts": "ScriptMagics",
        "ldir": "Other",
        "less": "KernelMagics",
        "load": "CodeMagics",
        "load_ext": "ExtensionMagics",
        "loadpy": "CodeMagics",
        "logoff": "LoggingMagics",
        "logon": "LoggingMagics",
        "logstart": "LoggingMagics",
        "logstate": "LoggingMagics",
        "logstop": "LoggingMagics",
        "ls": "Other",
        "lsmagic": "BasicMagics",
        "macro": "ExecutionMagics",
        "magic": "BasicMagics",
        "matplotlib": "PylabMagics",
        "mkdir": "Other",
        "more": "KernelMagics",
        "notebook": "BasicMagics",
        "page": "BasicMagics",
        "pastebin": "CodeMagics",
        "pdb": "ExecutionMagics",
        "pdef": "NamespaceMagics",
        "pdoc": "NamespaceMagics",
        "pfile": "NamespaceMagics",
        "pinfo": "NamespaceMagics",
        "pinfo2": "NamespaceMagics",
        "pip": "BasicMagics",
        "popd": "OSMagics",
        "pprint": "BasicMagics",
        "precision": "BasicMagics",
        "profile": "BasicMagics",
        "prun": "ExecutionMagics",
        "psearch": "NamespaceMagics",
        "psource": "NamespaceMagics",
        "pushd": "OSMagics",
        "pwd": "OSMagics",
        "pycat": "OSMagics",
        "pylab": "PylabMagics",
        "qtconsole": "KernelMagics",
        "quickref": "BasicMagics",
        "recall": "HistoryMagics",
        "rehashx": "OSMagics",
        "reload_ext": "ExtensionMagics",
        "ren": "Other",
        "rep": "Other",
        "rerun": "HistoryMagics",
        "reset": "NamespaceMagics",
        "reset_selective": "NamespaceMagics",
        "rmdir": "Other",
        "run": "ExecutionMagics",
        "save": "CodeMagics",
        "sc": "OSMagics",
        "set_env": "OSMagics",
        "store": "StoreMagics",
        "sx": "OSMagics",
        "system": "OSMagics",
        "tb": "ExecutionMagics",
        "time": "ExecutionMagics",
        "timeit": "ExecutionMagics",
        "unalias": "OSMagics",
        "unload_ext": "ExtensionMagics",
        "who": "NamespaceMagics",
        "who_ls": "NamespaceMagics",
        "whos": "NamespaceMagics",
        "xdel": "NamespaceMagics",
        "xmode": "BasicMagics"
       }
      },
      "text/plain": [
       "Available line magics:\n",
       "%alias  %alias_magic  %autocall  %automagic  %autosave  %bookmark  %cd  %clear  %cls  %colors  %config  %connect_info  %copy  %ddir  %debug  %dhist  %dirs  %doctest_mode  %echo  %ed  %edit  %env  %gui  %hist  %history  %killbgscripts  %ldir  %less  %load  %load_ext  %loadpy  %logoff  %logon  %logstart  %logstate  %logstop  %ls  %lsmagic  %macro  %magic  %matplotlib  %mkdir  %more  %notebook  %page  %pastebin  %pdb  %pdef  %pdoc  %pfile  %pinfo  %pinfo2  %popd  %pprint  %precision  %profile  %prun  %psearch  %psource  %pushd  %pwd  %pycat  %pylab  %qtconsole  %quickref  %recall  %rehashx  %reload_ext  %ren  %rep  %rerun  %reset  %reset_selective  %rmdir  %run  %save  %sc  %set_env  %store  %sx  %system  %tb  %time  %timeit  %unalias  %unload_ext  %who  %who_ls  %whos  %xdel  %xmode\n",
       "\n",
       "Available cell magics:\n",
       "%%!  %%HTML  %%SVG  %%bash  %%capture  %%cmd  %%debug  %%file  %%html  %%javascript  %%js  %%latex  %%markdown  %%perl  %%prun  %%pypy  %%python  %%python2  %%python3  %%ruby  %%script  %%sh  %%svg  %%sx  %%system  %%time  %%timeit  %%writefile\n",
       "\n",
       "Automagic is ON, % prefix IS NOT needed for line magics."
      ]
     },
     "execution_count": 6,
     "metadata": {},
     "output_type": "execute_result"
    }
   ],
   "source": [
    "%lsmagic"
   ]
  },
  {
   "cell_type": "markdown",
   "metadata": {},
   "source": [
    "## List files in current directory"
   ]
  },
  {
   "cell_type": "code",
   "execution_count": 13,
   "metadata": {},
   "outputs": [
    {
     "data": {
      "text/plain": [
       "'D:\\\\Users\\\\traek\\\\Documents\\\\Python\\\\SciPy\\\\Notebooks'"
      ]
     },
     "execution_count": 13,
     "metadata": {},
     "output_type": "execute_result"
    }
   ],
   "source": [
    "%pwd"
   ]
  },
  {
   "cell_type": "code",
   "execution_count": 14,
   "metadata": {
    "scrolled": true
   },
   "outputs": [
    {
     "name": "stdout",
     "output_type": "stream",
     "text": [
      " Volume in drive D is DataGames\n",
      " Volume Serial Number is 4027-E2FB\n",
      "\n",
      " Directory of D:\\Users\\traek\\Documents\\Python\\SciPy\\Notebooks\n",
      "\n",
      "08/16/2018  03:54    <DIR>          .\n",
      "08/16/2018  03:54    <DIR>          ..\n",
      "08/16/2018  02:04    <DIR>          .ipynb_checkpoints\n",
      "08/16/2018  03:54            23,662 FirstNotebook.ipynb\n",
      "               1 File(s)         23,662 bytes\n",
      "               3 Dir(s)  1,418,163,216,384 bytes free\n"
     ]
    }
   ],
   "source": [
    "%ls"
   ]
  },
  {
   "cell_type": "markdown",
   "metadata": {},
   "source": [
    "## Example Magic Cell -> Embedded HTML"
   ]
  },
  {
   "cell_type": "code",
   "execution_count": 38,
   "metadata": {
    "scrolled": true
   },
   "outputs": [
    {
     "data": {
      "text/html": [
       "\n",
       "<h1>Heading 1</h1>\n",
       "<p>This is embedded HTML code\n",
       "<h2>Heading 2</h2>\n",
       "<p>That's all \n"
      ],
      "text/plain": [
       "<IPython.core.display.HTML object>"
      ]
     },
     "metadata": {},
     "output_type": "display_data"
    }
   ],
   "source": [
    "%%HTML\n",
    "\n",
    "<h1>Heading 1</h1>\n",
    "<p>This is embedded HTML code\n",
    "<h2>Heading 2</h2>\n",
    "<p>That's all \n",
    "\n"
   ]
  },
  {
   "cell_type": "code",
   "execution_count": 39,
   "metadata": {},
   "outputs": [
    {
     "data": {
      "text/html": [
       "<iframe width=\"560\" height=\"315\" src=\"https://www.youtube.com/embed/HW29067qVWk\" frameborder=\"0\" allowfullscreen></iframe>"
      ],
      "text/plain": [
       "<IPython.core.display.HTML object>"
      ]
     },
     "metadata": {},
     "output_type": "display_data"
    }
   ],
   "source": [
    "%%HTML\n",
    "<iframe width=\"560\" height=\"315\" src=\"https://www.youtube.com/embed/HW29067qVWk\" frameborder=\"0\" allowfullscreen></iframe>"
   ]
  },
  {
   "cell_type": "markdown",
   "metadata": {},
   "source": [
    "# Panda DataFrame Example"
   ]
  },
  {
   "cell_type": "code",
   "execution_count": 23,
   "metadata": {
    "scrolled": true
   },
   "outputs": [
    {
     "data": {
      "text/html": [
       "<div>\n",
       "<style scoped>\n",
       "    .dataframe tbody tr th:only-of-type {\n",
       "        vertical-align: middle;\n",
       "    }\n",
       "\n",
       "    .dataframe tbody tr th {\n",
       "        vertical-align: top;\n",
       "    }\n",
       "\n",
       "    .dataframe thead th {\n",
       "        text-align: right;\n",
       "    }\n",
       "</style>\n",
       "<table border=\"1\" class=\"dataframe\">\n",
       "  <thead>\n",
       "    <tr style=\"text-align: right;\">\n",
       "      <th></th>\n",
       "      <th>0</th>\n",
       "      <th>1</th>\n",
       "      <th>2</th>\n",
       "      <th>3</th>\n",
       "      <th>4</th>\n",
       "    </tr>\n",
       "  </thead>\n",
       "  <tbody>\n",
       "    <tr>\n",
       "      <th>0</th>\n",
       "      <td>0.760413</td>\n",
       "      <td>0.704845</td>\n",
       "      <td>-0.795091</td>\n",
       "      <td>0.034326</td>\n",
       "      <td>0.128685</td>\n",
       "    </tr>\n",
       "    <tr>\n",
       "      <th>1</th>\n",
       "      <td>-1.321948</td>\n",
       "      <td>-0.017896</td>\n",
       "      <td>0.312564</td>\n",
       "      <td>1.500569</td>\n",
       "      <td>0.798221</td>\n",
       "    </tr>\n",
       "    <tr>\n",
       "      <th>2</th>\n",
       "      <td>-0.402474</td>\n",
       "      <td>1.160682</td>\n",
       "      <td>-0.243126</td>\n",
       "      <td>-0.658310</td>\n",
       "      <td>1.653719</td>\n",
       "    </tr>\n",
       "    <tr>\n",
       "      <th>3</th>\n",
       "      <td>1.769272</td>\n",
       "      <td>-2.746354</td>\n",
       "      <td>-0.780639</td>\n",
       "      <td>1.883118</td>\n",
       "      <td>-0.883870</td>\n",
       "    </tr>\n",
       "    <tr>\n",
       "      <th>4</th>\n",
       "      <td>-1.263569</td>\n",
       "      <td>-0.041482</td>\n",
       "      <td>-0.137778</td>\n",
       "      <td>1.120701</td>\n",
       "      <td>-0.130885</td>\n",
       "    </tr>\n",
       "  </tbody>\n",
       "</table>\n",
       "</div>"
      ],
      "text/plain": [
       "          0         1         2         3         4\n",
       "0  0.760413  0.704845 -0.795091  0.034326  0.128685\n",
       "1 -1.321948 -0.017896  0.312564  1.500569  0.798221\n",
       "2 -0.402474  1.160682 -0.243126 -0.658310  1.653719\n",
       "3  1.769272 -2.746354 -0.780639  1.883118 -0.883870\n",
       "4 -1.263569 -0.041482 -0.137778  1.120701 -0.130885"
      ]
     },
     "execution_count": 23,
     "metadata": {},
     "output_type": "execute_result"
    }
   ],
   "source": [
    "import numpy as np\n",
    "import pandas as pd\n",
    "\n",
    "df = pd.DataFrame(np.random.randn(10,5))\n",
    "df.head()"
   ]
  },
  {
   "cell_type": "code",
   "execution_count": 42,
   "metadata": {},
   "outputs": [
    {
     "data": {
      "text/latex": [
       "$$\\frac{3 \\pi}{2} + \\frac{e^{i x}}{x^{2} + y}$$"
      ],
      "text/plain": [
       "        ⅈ⋅x \n",
       "3⋅π    ℯ    \n",
       "─── + ──────\n",
       " 2     2    \n",
       "      x  + y"
      ]
     },
     "execution_count": 42,
     "metadata": {},
     "output_type": "execute_result"
    }
   ],
   "source": [
    "from IPython.display import display\n",
    "\n",
    "from sympy.interactive import printing\n",
    "printing.init_printing(use_latex='mathjax')\n",
    "\n",
    "from __future__ import division\n",
    "import sympy as sym\n",
    "from sympy import *\n",
    "x, y, z = symbols(\"x y z\")\n",
    "k, m, n = symbols(\"k m n\", integer=True)\n",
    "f, g, h = map(Function, 'fgh')\n",
    "\n",
    "Rational(3,2)*pi + exp(I*x) / (x**2 + y)"
   ]
  }
 ],
 "metadata": {
  "kernelspec": {
   "display_name": "Python 3",
   "language": "python",
   "name": "python3"
  },
  "language_info": {
   "codemirror_mode": {
    "name": "ipython",
    "version": 3
   },
   "file_extension": ".py",
   "mimetype": "text/x-python",
   "name": "python",
   "nbconvert_exporter": "python",
   "pygments_lexer": "ipython3",
   "version": "3.6.5"
  }
 },
 "nbformat": 4,
 "nbformat_minor": 2
}
